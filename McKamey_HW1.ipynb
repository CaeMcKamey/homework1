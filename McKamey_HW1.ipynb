{
 "cells": [
  {
   "cell_type": "markdown",
   "id": "9e2a649a-c6aa-4aca-96c0-9a609567f45c",
   "metadata": {},
   "source": [
    "## Exercise 2.1 - Solution\n",
    "Here, I created three variables: one integer for ice cream, one for sleep, and a character string for my name. \n",
    "I calculated the average using the statistics package to calculate the mean of the scores.\n",
    "I found the data type of each variable and was surprised that my happiness score was a 'float' instead of an integer.\n",
    "I print my final results at the end of the code!"
   ]
  },
  {
   "cell_type": "code",
   "execution_count": 1,
   "id": "5d388fcd-8500-48dc-aac3-807c4467cb8d",
   "metadata": {},
   "outputs": [],
   "source": [
    "import statistics"
   ]
  },
  {
   "cell_type": "code",
   "execution_count": 2,
   "id": "81d06622-1aa4-42e7-b80d-561e0ce275de",
   "metadata": {},
   "outputs": [],
   "source": [
    "ice_cream = 7\n",
    "sleep = 10\n",
    "name = 'Caelan'\n",
    "happiness = statistics.mean([ice_cream,sleep])"
   ]
  },
  {
   "cell_type": "code",
   "execution_count": 3,
   "id": "7370c1bf-2b2e-4140-a2b7-30c720a8fdd0",
   "metadata": {},
   "outputs": [
    {
     "data": {
      "text/plain": [
       "int"
      ]
     },
     "execution_count": 3,
     "metadata": {},
     "output_type": "execute_result"
    }
   ],
   "source": [
    "type(ice_cream)"
   ]
  },
  {
   "cell_type": "code",
   "execution_count": 4,
   "id": "afef279b-8c34-44f3-9e7b-99a4e051ec80",
   "metadata": {},
   "outputs": [
    {
     "data": {
      "text/plain": [
       "int"
      ]
     },
     "execution_count": 4,
     "metadata": {},
     "output_type": "execute_result"
    }
   ],
   "source": [
    "type(sleep)"
   ]
  },
  {
   "cell_type": "code",
   "execution_count": 5,
   "id": "e8e75cbc-5599-429b-892d-a82482cbc1ad",
   "metadata": {},
   "outputs": [
    {
     "data": {
      "text/plain": [
       "str"
      ]
     },
     "execution_count": 5,
     "metadata": {},
     "output_type": "execute_result"
    }
   ],
   "source": [
    "type(name)"
   ]
  },
  {
   "cell_type": "code",
   "execution_count": 6,
   "id": "3a44a43f-d126-4909-b184-b41dd3bbb54e",
   "metadata": {},
   "outputs": [
    {
     "data": {
      "text/plain": [
       "float"
      ]
     },
     "execution_count": 6,
     "metadata": {},
     "output_type": "execute_result"
    }
   ],
   "source": [
    "type(happiness)"
   ]
  },
  {
   "cell_type": "code",
   "execution_count": 7,
   "id": "6c3d68a3-4f93-445d-b654-14a3c9d612ad",
   "metadata": {},
   "outputs": [
    {
     "name": "stdout",
     "output_type": "stream",
     "text": [
      "My name is Caelan and I give eating ice cream a score of 7 out of 10!\n",
      "My sleeping enjoyment rating is 10 /10!\n",
      "Based on the factors above, my happiness rating is 8.5 out of 10 or 85.0 %\n"
     ]
    }
   ],
   "source": [
    "print('My name is',name,'and I give eating ice cream a score of',ice_cream,'out of 10!')\n",
    "print('My sleeping enjoyment rating is',sleep,'/10!')\n",
    "print('Based on the factors above, my happiness rating is',happiness,'out of 10 or',(happiness*10),'%')"
   ]
  },
  {
   "cell_type": "markdown",
   "id": "0cff4ee2-7644-453d-ac22-660e6cfb18d7",
   "metadata": {
    "tags": []
   },
   "source": [
    "## Exercise 2.2 - Creating and changing lists\n",
    "\n",
    "\n",
    "|FMI station name       | First year of operation | Group |\n",
    "|:----------------------|:-----------------------:|:-----:|\n",
    "|lighthouse             | 2003                    | 1     |\n",
    "|Harmaja                | 1989                    | 1     |\n",
    "|Suomenlinna aaltopoiju | 2016                    | 1     |\n",
    "|Kumpula                | 2005                    | 1     |\n",
    "|Kaisaniemi             | 1844                    | 1     |\n",
    "|Malmi airfield         | 1937                    | 2     |\n",
    "|Vuosaari harbour       | 2012                    | 2     |\n",
    "|Kaivopuisto            | 1904                    | 2     |\n",
    "\n",
    "Here, I created two lists for the station names and first years of operation for the stations in Group 1 in Table 2.5. Then, I modified the lists to add the values Group 2, again keeping them in the same order. Finally, I sortted the two lists, sorting the first in alphabetical order and the second so that the most recent starting year is first. The date range was sorted earliest year to more recent years, to combat this, I utilized the python function called 'zip()'. The final product was two lists sorted alphabetically and most recent to past years."
   ]
  },
  {
   "cell_type": "code",
   "execution_count": 8,
   "id": "9d27af2f-acca-41df-a6fd-82d9cc8e8692",
   "metadata": {},
   "outputs": [],
   "source": [
    "station_names = [\"Lighthouse\",\n",
    "                 \"Harmaja\",\n",
    "                 \"Suomenlinna aaltopoiju\",\n",
    "                 \"Kumpula\",\n",
    "                 \"Kaisaniemi\"]\n",
    "station_years = [\"2003\",\n",
    "                 \"1989\",\n",
    "                 \"2016\",\n",
    "                 \"2005\",\n",
    "                 \"1844\"]"
   ]
  },
  {
   "cell_type": "code",
   "execution_count": 9,
   "id": "b9189906-4956-4359-80b7-346d003a88ae",
   "metadata": {},
   "outputs": [
    {
     "name": "stdout",
     "output_type": "stream",
     "text": [
      "['Lighthouse', 'Harmaja', 'Suomenlinna aaltopoiju', 'Kumpula', 'Kaisaniemi'] ['2003', '1989', '2016', '2005', '1844']\n"
     ]
    }
   ],
   "source": [
    "print(station_names,station_years)"
   ]
  },
  {
   "cell_type": "code",
   "execution_count": 10,
   "id": "0300ca87-0332-4dc3-bf61-f172267c97f2",
   "metadata": {},
   "outputs": [
    {
     "data": {
      "text/plain": [
       "['Lighthouse',\n",
       " 'Harmaja',\n",
       " 'Suomenlinna aaltopoiju',\n",
       " 'Kumpula',\n",
       " 'Kaisaniemi',\n",
       " 'Malmi airfield',\n",
       " 'Vuosaari harbour',\n",
       " 'Kaivopuisto']"
      ]
     },
     "execution_count": 10,
     "metadata": {},
     "output_type": "execute_result"
    }
   ],
   "source": [
    "station_names.append(\"Malmi airfield\")\n",
    "station_names\n",
    "station_names.append(\"Vuosaari harbour\")\n",
    "station_names\n",
    "station_names.append(\"Kaivopuisto\")\n",
    "station_names"
   ]
  },
  {
   "cell_type": "code",
   "execution_count": 11,
   "id": "b15c55fb-7669-4e61-a3c7-e60d914f85e0",
   "metadata": {},
   "outputs": [
    {
     "data": {
      "text/plain": [
       "['2003', '1989', '2016', '2005', '1844', '1937', '2012', '1904']"
      ]
     },
     "execution_count": 11,
     "metadata": {},
     "output_type": "execute_result"
    }
   ],
   "source": [
    "station_years.append(\"1937\")\n",
    "station_years\n",
    "station_years.append(\"2012\")\n",
    "station_years\n",
    "station_years.append(\"1904\")\n",
    "station_years"
   ]
  },
  {
   "cell_type": "code",
   "execution_count": 12,
   "id": "28a3bd19-15d5-4b79-8c41-3ee0912308f3",
   "metadata": {},
   "outputs": [
    {
     "data": {
      "text/plain": [
       "['Harmaja',\n",
       " 'Kaisaniemi',\n",
       " 'Kaivopuisto',\n",
       " 'Kumpula',\n",
       " 'Lighthouse',\n",
       " 'Malmi airfield',\n",
       " 'Suomenlinna aaltopoiju',\n",
       " 'Vuosaari harbour']"
      ]
     },
     "execution_count": 12,
     "metadata": {},
     "output_type": "execute_result"
    }
   ],
   "source": [
    "#sort\n",
    "station_names.sort()\n",
    "station_names\n",
    "##make years go high to low instead of low to high"
   ]
  },
  {
   "cell_type": "code",
   "execution_count": 13,
   "id": "87cc39ed-3457-4c3d-8b60-694f4a75b45a",
   "metadata": {},
   "outputs": [],
   "source": [
    "## sort dates high to low using zip"
   ]
  },
  {
   "cell_type": "markdown",
   "id": "8a8ac622-c798-4f34-98a8-301f1544c075",
   "metadata": {},
   "source": [
    "## Exercise 2.3 - Lists and index values\n",
    "\n",
    "For this loop I took the data below to print the average temperature in Helsinki with its coinciding month.\n",
    "\n",
    "|Month     | Temperature (°C) |\n",
    "|:---------|:----------------:|\n",
    "|January   | -3.5             |\n",
    "|February  | -4.5             |\n",
    "|March     | -1.0             |\n",
    "|April     | 4.0              |\n",
    "|May       | 10.0             |\n",
    "|June      | 15.0             |\n",
    "|July      | 18.0             |\n",
    "|August    | 16.0             |\n",
    "|September | 11.5             |\n",
    "|October   | 6.0              |\n",
    "|November  | 2.0              |\n",
    "|December  | -1.5             |\n"
   ]
  },
  {
   "cell_type": "code",
   "execution_count": 14,
   "id": "fe2e10c9-7916-4145-a604-74bcfbe97e35",
   "metadata": {},
   "outputs": [],
   "source": [
    "months = [\"January\", \"February\", \"March\", \"April\", \n",
    "          \"May\", \"June\", \"July\", \"August\", \"September\", \n",
    "          \"October\", \"November\", \"December\"]\n",
    "temp = ['-3.5','-4.5','-1.0','4.0','10.0','15.0','18.0','16.0','11.5','6.0','2.0','-1.5']\n"
   ]
  },
  {
   "cell_type": "code",
   "execution_count": 15,
   "id": "4505189d-6b27-4d48-a862-b48ac8c55acb",
   "metadata": {},
   "outputs": [
    {
     "name": "stdout",
     "output_type": "stream",
     "text": [
      "The average temperature in Helsinki in January is -3.5\n",
      "The average temperature in Helsinki in February is -4.5\n",
      "The average temperature in Helsinki in March is -1.0\n",
      "The average temperature in Helsinki in April is 4.0\n",
      "The average temperature in Helsinki in May is 10.0\n",
      "The average temperature in Helsinki in June is 15.0\n",
      "The average temperature in Helsinki in July is 18.0\n",
      "The average temperature in Helsinki in August is 16.0\n",
      "The average temperature in Helsinki in September is 11.5\n",
      "The average temperature in Helsinki in October is 6.0\n",
      "The average temperature in Helsinki in November is 2.0\n",
      "The average temperature in Helsinki in December is -1.5\n"
     ]
    }
   ],
   "source": [
    "for i in range(len(months)):\n",
    "    print(\"The average temperature in Helsinki in\", months[i],\"is\", temp[i])"
   ]
  },
  {
   "cell_type": "markdown",
   "id": "d6b42dc6-bf5e-4955-afd5-a40318344da4",
   "metadata": {},
   "source": [
    "## Exercise 2.4 - Batch processing files with a `for` loop\n",
    "\n",
    "Here, I used a `for` loop to create a Python list that produces the output below \n",
    "\n"
   ]
  },
  {
   "cell_type": "code",
   "execution_count": 16,
   "id": "94eeeaa3-2c38-4f4d-8f15-a1c1aa375cfa",
   "metadata": {},
   "outputs": [
    {
     "name": "stdout",
     "output_type": "stream",
     "text": [
      "Station_ 0 .txt\n",
      "Station_ 1 .txt\n",
      "Station_ 2 .txt\n",
      "Station_ 3 .txt\n",
      "Station_ 4 .txt\n",
      "Station_ 5 .txt\n",
      "Station_ 6 .txt\n",
      "Station_ 7 .txt\n",
      "Station_ 8 .txt\n",
      "Station_ 9 .txt\n",
      "Station_ 10 .txt\n",
      "Station_ 11 .txt\n",
      "Station_ 12 .txt\n",
      "Station_ 13 .txt\n",
      "Station_ 14 .txt\n",
      "Station_ 15 .txt\n",
      "Station_ 16 .txt\n",
      "Station_ 17 .txt\n",
      "Station_ 18 .txt\n",
      "Station_ 19 .txt\n",
      "Station_ 20 .txt\n"
     ]
    }
   ],
   "source": [
    "for i in range(21):\n",
    "    print('Station_',i,'.txt')"
   ]
  }
 ],
 "metadata": {
  "kernelspec": {
   "display_name": "Python 3 (ipykernel)",
   "language": "python",
   "name": "python3"
  },
  "language_info": {
   "codemirror_mode": {
    "name": "ipython",
    "version": 3
   },
   "file_extension": ".py",
   "mimetype": "text/x-python",
   "name": "python",
   "nbconvert_exporter": "python",
   "pygments_lexer": "ipython3",
   "version": "3.9.15"
  }
 },
 "nbformat": 4,
 "nbformat_minor": 5
}
